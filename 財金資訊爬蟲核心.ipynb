{
  "nbformat": 4,
  "nbformat_minor": 0,
  "metadata": {
    "kernelspec": {
      "display_name": "Python 3",
      "language": "python",
      "name": "python3"
    },
    "language_info": {
      "codemirror_mode": {
        "name": "ipython",
        "version": 3
      },
      "file_extension": ".py",
      "mimetype": "text/x-python",
      "name": "python",
      "nbconvert_exporter": "python",
      "pygments_lexer": "ipython3",
      "version": "3.8.3"
    },
    "colab": {
      "name": "財金資訊爬蟲核心.ipynb",
      "provenance": [],
      "collapsed_sections": [],
      "include_colab_link": true
    }
  },
  "cells": [
    {
      "cell_type": "markdown",
      "metadata": {
        "id": "view-in-github",
        "colab_type": "text"
      },
      "source": [
        "<a href=\"https://colab.research.google.com/github/alexlauforgithub/mystuffs/blob/master/%E8%B2%A1%E9%87%91%E8%B3%87%E8%A8%8A%E7%88%AC%E8%9F%B2%E6%A0%B8%E5%BF%83.ipynb\" target=\"_parent\"><img src=\"https://colab.research.google.com/assets/colab-badge.svg\" alt=\"Open In Colab\"/></a>"
      ]
    },
    {
      "cell_type": "code",
      "metadata": {
        "id": "IreBIbpOL4iT"
      },
      "source": [
        "import pandas as pd\n",
        "import numpy as np\n",
        "import requests\n",
        "import io\n",
        "import os\n",
        "import time\n",
        "import datetime"
      ],
      "execution_count": 1,
      "outputs": []
    },
    {
      "cell_type": "markdown",
      "metadata": {
        "id": "ShyKvud-L4iW"
      },
      "source": [
        "## 爬取大盤歷史資料"
      ]
    },
    {
      "cell_type": "code",
      "metadata": {
        "id": "7169W-Wuwdj1"
      },
      "source": [
        "# 日期設定\n",
        "first_date = datetime.datetime.today().replace(day=1).strftime('%Y-%m-%d')\n",
        "start_date = '2000-01-01'\n",
        "date_list = pd.date_range(start_date, first_date, freq='MS')\n",
        "date_list = date_list.strftime('%Y%m%d').tolist()"
      ],
      "execution_count": null,
      "outputs": []
    },
    {
      "cell_type": "code",
      "metadata": {
        "id": "Y8BjJ-oEL4iW"
      },
      "source": [
        "i='20210805'\n",
        "\n",
        "url = 'https://www.twse.com.tw/indicesReport/MI_5MINS_HIST?response=csv&date='+ '20210701' \n",
        "res = requests.get(url)\n",
        "text = res.text\n",
        "\n",
        "if len(text) == 0:\n",
        "    None\n",
        "\n",
        "else:\n",
        "    # 把爬下來的資料整理乾淨\n",
        "    cleaned_data = []\n",
        "    for da in text.split('\\n'):\n",
        "        cleaned_data.append([ele.replace('\",\\r','').replace('\"','') \n",
        "                            for ele in da.split('\",\"')])\n",
        "    \n",
        "    # 輸出成表格並呈現在excel上\n",
        "    df = pd.DataFrame(cleaned_data, columns = cleaned_data[1])[2:].dropna().reset_index(drop=True)\n",
        "    df.columns = ['date', 'open', 'high', 'low', 'close']\n",
        "    #民國年轉西元年\n",
        "    for ix in range(len(df['date'])):\n",
        "        df['date'].iloc[ix]=df['date'].iloc[ix].replace(df['date'].iloc[ix][0:3], str(int(df['date'].iloc[ix][0:3]) + 1911))\n",
        "    # 轉成數值\n",
        "    df['date'] = df['date'].str.replace('/', '').astype(int)"
      ],
      "execution_count": 7,
      "outputs": []
    },
    {
      "cell_type": "markdown",
      "metadata": {
        "id": "IaGEFe45L4iX"
      },
      "source": [
        "## 爬取股價歷史資料"
      ]
    },
    {
      "cell_type": "code",
      "metadata": {
        "id": "dZ5X-RQVL4iX"
      },
      "source": [
        "# 日期設定\n",
        "today_date = datetime.datetime.today().strftime('%Y-%m-%d')\n",
        "start_date = '2004-02-11' # 證交所最早提供的日期\n",
        "date_list = pd.date_range(start=start_date ,end=today_date).strftime('%Y%m%d').tolist()"
      ],
      "execution_count": null,
      "outputs": []
    },
    {
      "cell_type": "code",
      "metadata": {
        "id": "LMMPwFfaL4iX"
      },
      "source": [
        "i='20210805'\n",
        "url = 'https://www.twse.com.tw/exchangeReport/MI_INDEX?response=csv&date='+ i + '&type=ALLBUT0999'\n",
        "res = requests.get(url)\n",
        "text = res.text\n",
        "\n",
        "if len(text) == 0:\n",
        "    print(i +\" is holiday!\")\n",
        "else:\n",
        "    # 把爬下來的資料整理乾淨\n",
        "    cleaned_data = []\n",
        "    for da in text.split('\\n'):\n",
        "        if len(da.split('\",\"')) == 16 and da.split('\",\"')[0][0] != '=':\n",
        "            cleaned_data.append([ele.replace('\",\\r','').replace('\"','') \n",
        "                                  for ele in da.split('\",\"')])\n",
        "    \n",
        "    # 輸出成表格並呈現在excel上\n",
        "    df = pd.DataFrame(cleaned_data, columns = cleaned_data[0])[1:]\n",
        "    df['日期'] = i\n",
        "    df = df[['日期', '證券代號', '證券名稱', '開盤價', '最高價', '最低價', '收盤價', '成交股數', '成交金額']]\n",
        "    df.columns = ['date_num', 'code', 'name', 'open', 'high', 'low', 'close', 'volume_share', 'volume_value']\n",
        "    \n",
        "    # 取股票代碼4位數字\n",
        "    df = df[df['code'].apply(lambda x: len(x) < 5)].reset_index(drop=True)\n",
        "\n",
        "    df = df.replace('--', np.nan)\n",
        "    df = df.replace(',','', regex=True)\n",
        "    num_feat = ['date_num', 'open', 'high', 'low', 'close','volume_share', 'volume_value']\n",
        "    df[num_feat] = df[num_feat].astype(float)"
      ],
      "execution_count": 45,
      "outputs": []
    },
    {
      "cell_type": "markdown",
      "metadata": {
        "id": "DTTRY_MFL4iZ"
      },
      "source": [
        "## 爬取證交所籌碼資料"
      ]
    },
    {
      "cell_type": "code",
      "metadata": {
        "id": "4tF5Ybp-L4iZ"
      },
      "source": [
        "# 日期設定\n",
        "today_date = datetime.datetime.today().strftime('%Y-%m-%d')\n",
        "start_date = '2014-12-01' # 證交所最早提供的日期\n",
        "date_list = pd.date_range(start=start_date ,end=today_date).strftime('%Y%m%d').tolist()"
      ],
      "execution_count": null,
      "outputs": []
    },
    {
      "cell_type": "code",
      "metadata": {
        "id": "fhyG9haoN2JZ"
      },
      "source": [
        "## 施工中"
      ],
      "execution_count": null,
      "outputs": []
    },
    {
      "cell_type": "code",
      "metadata": {
        "scrolled": true,
        "id": "FhEKHkYCL4ia"
      },
      "source": [
        "# 爬取證交所籌碼資料\n",
        "i = '20130701'\n",
        "\n",
        "url = 'https://www.twse.com.tw/fund/T86?response=csv&date='+ i + '&selectType=ALLBUT0999'\n",
        "res = requests.get(url)\n",
        "text = res.text\n",
        "ix = int(i)\n",
        "\n",
        "if len(text) == 0 or text == '\\r\\n':\n",
        "    print('Ho!')\n",
        "\n",
        "\n",
        "\n",
        "\n",
        "elif ix < 20141201:\n",
        "    # 把爬下來的資料整理乾淨\n",
        "    cleaned_data = []\n",
        "    for da in text.split('\\n'):\n",
        "        if len(da.split('\",\"')) == 12 and da.split('\",\"')[0][0] != '=':\n",
        "            cleaned_data.append([ele.replace('\",\\r','').replace('\"','') \n",
        "                                  for ele in da.split('\",\"')])\n",
        "\n",
        "    # 輸出成表格並呈現在excel上\n",
        "    df = pd.DataFrame(cleaned_data, columns = cleaned_data[0])[1:]\n",
        "    df.columns = ['code', 'name', 'FI_BUY', 'FI_SELL', 'FI_TOTAL', 'SIT_BUY', 'SIT_SELL', 'SIT_TOTAL', 'DL_TOTAL', 'DL_BUY', 'DL_SELL', 'TOP3_TOTAL']\n",
        "    df['date'] = i\n",
        "    df = df[['date', 'code', 'name', 'FI_BUY', 'FI_SELL', 'FI_TOTAL', 'SIT_BUY', 'SIT_SELL', 'SIT_TOTAL', 'DL_TOTAL', 'DL_BUY', 'DL_SELL', 'TOP3_TOTAL']]\n",
        "    df = df[df['code'].apply(lambda x: len(x) < 5)].reset_index(drop=True)\n",
        "\n",
        "\n",
        "elif ix < 20171218 and ix >= 20141201 :\n",
        "    # 把爬下來的資料整理乾淨\n",
        "    cleaned_data = []\n",
        "    for da in text.split('\\n'):\n",
        "        if len(da.split('\",\"')) == 16 and da.split('\",\"')[0][0] != '=':\n",
        "            cleaned_data.append([ele.replace('\",\\r','').replace('\"','') \n",
        "                                  for ele in da.split('\",\"')])\n",
        "\n",
        "    # 輸出成表格並呈現在excel上\n",
        "    df = pd.DataFrame(cleaned_data, columns = cleaned_data[0])[1:]\n",
        "    df.columns = ['code', 'name', 'fi_buy', 'fi_sell', 'fi_diff', 'sitc_buy', 'sitc_sell', 'sitc_di', 'DL_TOTAL', 'DL_SELF_BUY', 'DL_SELF_SELL', 'DL_SELF_TOTAL', 'DL_HEDGE_BUY', 'DL_HEDGE_SELL', 'DL_HEDGE_TOTAL', 'TOP3_TOTAL']\n",
        "    df['date'] = i\n",
        "    df = df[['date', 'code', 'name', 'FI_BUY', 'FI_SELL', 'FI_TOTAL', 'SIT_BUY', 'SIT_SELL', 'SIT_TOTAL', 'DL_TOTAL', 'DL_SELF_BUY', 'DL_SELF_SELL', 'DL_SELF_TOTAL', 'DL_HEDGE_BUY', 'DL_HEDGE_SELL', 'DL_HEDGE_TOTAL', 'TOP3_TOTAL']]\n",
        "    df = df[df['code'].apply(lambda x: len(x) < 5)].reset_index(drop=True)\n",
        "\n",
        "elif ix >= 20171218:\n",
        "    # 把爬下來的資料整理乾淨\n",
        "    cleaned_data = []\n",
        "    for da in text.split('\\n'):\n",
        "        if len(da.split('\",\"')) == 19 and da.split('\",\"')[0][0] != '=':\n",
        "            cleaned_data.append([ele.replace('\",\\r','').replace('\"','') \n",
        "                                  for ele in da.split('\",\"')])\n",
        "\n",
        "    # 輸出成表格並呈現在excel上\n",
        "    df = pd.DataFrame(cleaned_data, columns = cleaned_data[0])[1:]\n",
        "    df.columns = ['code', 'name', 'FI_BUY', 'FI_SELL', 'FI_TOTAL', 'FI_SELF_BUY', 'FI_SELF_SELL', 'FI_SELF_TOTAL', 'SIT_BUY', 'SIT_SELL', 'SIT_TOTAL', 'DL_TOTAL', 'DL_SELF_BUY', 'DL_SELF_SELL', 'DL_SELF_TOTAL', 'DL_HEDGE_BUY', 'DL_HEDGE_SELL', 'DL_HEDGE_TOTAL', 'TOP3_TOTAL']\n",
        "    df['date'] = i\n",
        "    df = df[['date', 'code', 'name', 'FI_BUY', 'FI_SELL', 'FI_TOTAL', 'FI_SELF_BUY', 'FI_SELF_SELL', 'FI_SELF_TOTAL', 'SIT_BUY', 'SIT_SELL', 'SIT_TOTAL', 'DL_TOTAL', 'DL_SELF_BUY', 'DL_SELF_SELL', 'DL_SELF_TOTAL', 'DL_HEDGE_BUY', 'DL_HEDGE_SELL', 'DL_HEDGE_TOTAL', 'TOP3_TOTAL']]\n",
        "    df = df[df['code'].apply(lambda x: len(x) < 5)].reset_index(drop=True)"
      ],
      "execution_count": 54,
      "outputs": []
    },
    {
      "cell_type": "code",
      "metadata": {
        "id": "40vKlk5CKEwW",
        "outputId": "bd78f1f7-a5dc-44ec-c416-74cd225d97ec",
        "colab": {
          "base_uri": "https://localhost:8080/",
          "height": 419
        }
      },
      "source": [
        "df"
      ],
      "execution_count": 55,
      "outputs": [
        {
          "output_type": "execute_result",
          "data": {
            "text/html": [
              "<div>\n",
              "<style scoped>\n",
              "    .dataframe tbody tr th:only-of-type {\n",
              "        vertical-align: middle;\n",
              "    }\n",
              "\n",
              "    .dataframe tbody tr th {\n",
              "        vertical-align: top;\n",
              "    }\n",
              "\n",
              "    .dataframe thead th {\n",
              "        text-align: right;\n",
              "    }\n",
              "</style>\n",
              "<table border=\"1\" class=\"dataframe\">\n",
              "  <thead>\n",
              "    <tr style=\"text-align: right;\">\n",
              "      <th></th>\n",
              "      <th>date</th>\n",
              "      <th>code</th>\n",
              "      <th>name</th>\n",
              "      <th>FI_BUY</th>\n",
              "      <th>FI_SELL</th>\n",
              "      <th>FI_TOTAL</th>\n",
              "      <th>SIT_BUY</th>\n",
              "      <th>SIT_SELL</th>\n",
              "      <th>SIT_TOTAL</th>\n",
              "      <th>DL_TOTAL</th>\n",
              "      <th>DL_BUY</th>\n",
              "      <th>DL_SELL</th>\n",
              "      <th>TOP3_TOTAL</th>\n",
              "    </tr>\n",
              "  </thead>\n",
              "  <tbody>\n",
              "    <tr>\n",
              "      <th>0</th>\n",
              "      <td>20130701</td>\n",
              "      <td>2303</td>\n",
              "      <td>聯電</td>\n",
              "      <td>26,269,000</td>\n",
              "      <td>28,204,370</td>\n",
              "      <td>-1,935,370</td>\n",
              "      <td>10,552,000</td>\n",
              "      <td>19,000</td>\n",
              "      <td>10,533,000</td>\n",
              "      <td>2,747,000</td>\n",
              "      <td>6,839,000</td>\n",
              "      <td>4,092,000</td>\n",
              "      <td>11,344,630</td>\n",
              "    </tr>\n",
              "    <tr>\n",
              "      <th>1</th>\n",
              "      <td>20130701</td>\n",
              "      <td>3474</td>\n",
              "      <td>華亞科</td>\n",
              "      <td>13,283,000</td>\n",
              "      <td>4,303,000</td>\n",
              "      <td>8,980,000</td>\n",
              "      <td>0</td>\n",
              "      <td>0</td>\n",
              "      <td>0</td>\n",
              "      <td>0</td>\n",
              "      <td>0</td>\n",
              "      <td>0</td>\n",
              "      <td>8,980,000</td>\n",
              "    </tr>\n",
              "    <tr>\n",
              "      <th>2</th>\n",
              "      <td>20130701</td>\n",
              "      <td>2883</td>\n",
              "      <td>開發金</td>\n",
              "      <td>9,702,000</td>\n",
              "      <td>6,382,800</td>\n",
              "      <td>3,319,200</td>\n",
              "      <td>0</td>\n",
              "      <td>21,000</td>\n",
              "      <td>-21,000</td>\n",
              "      <td>4,967,000</td>\n",
              "      <td>7,624,000</td>\n",
              "      <td>2,657,000</td>\n",
              "      <td>8,265,200</td>\n",
              "    </tr>\n",
              "    <tr>\n",
              "      <th>3</th>\n",
              "      <td>20130701</td>\n",
              "      <td>2325</td>\n",
              "      <td>矽品</td>\n",
              "      <td>11,744,000</td>\n",
              "      <td>6,363,369</td>\n",
              "      <td>5,380,631</td>\n",
              "      <td>0</td>\n",
              "      <td>5,000</td>\n",
              "      <td>-5,000</td>\n",
              "      <td>2,740,000</td>\n",
              "      <td>3,223,000</td>\n",
              "      <td>483,000</td>\n",
              "      <td>8,115,631</td>\n",
              "    </tr>\n",
              "    <tr>\n",
              "      <th>4</th>\n",
              "      <td>20130701</td>\n",
              "      <td>2887</td>\n",
              "      <td>台新金</td>\n",
              "      <td>8,206,000</td>\n",
              "      <td>2,547,000</td>\n",
              "      <td>5,659,000</td>\n",
              "      <td>1,700,000</td>\n",
              "      <td>9,000</td>\n",
              "      <td>1,691,000</td>\n",
              "      <td>212,000</td>\n",
              "      <td>546,000</td>\n",
              "      <td>334,000</td>\n",
              "      <td>7,562,000</td>\n",
              "    </tr>\n",
              "    <tr>\n",
              "      <th>...</th>\n",
              "      <td>...</td>\n",
              "      <td>...</td>\n",
              "      <td>...</td>\n",
              "      <td>...</td>\n",
              "      <td>...</td>\n",
              "      <td>...</td>\n",
              "      <td>...</td>\n",
              "      <td>...</td>\n",
              "      <td>...</td>\n",
              "      <td>...</td>\n",
              "      <td>...</td>\n",
              "      <td>...</td>\n",
              "      <td>...</td>\n",
              "    </tr>\n",
              "    <tr>\n",
              "      <th>740</th>\n",
              "      <td>20130701</td>\n",
              "      <td>6116</td>\n",
              "      <td>彩晶</td>\n",
              "      <td>94,000</td>\n",
              "      <td>7,815,394</td>\n",
              "      <td>-7,721,394</td>\n",
              "      <td>0</td>\n",
              "      <td>0</td>\n",
              "      <td>0</td>\n",
              "      <td>195,000</td>\n",
              "      <td>200,000</td>\n",
              "      <td>5,000</td>\n",
              "      <td>-7,526,394</td>\n",
              "    </tr>\n",
              "    <tr>\n",
              "      <th>741</th>\n",
              "      <td>20130701</td>\n",
              "      <td>2498</td>\n",
              "      <td>宏達電</td>\n",
              "      <td>2,457,087</td>\n",
              "      <td>10,771,270</td>\n",
              "      <td>-8,314,183</td>\n",
              "      <td>0</td>\n",
              "      <td>95,000</td>\n",
              "      <td>-95,000</td>\n",
              "      <td>-127,015</td>\n",
              "      <td>261,000</td>\n",
              "      <td>388,015</td>\n",
              "      <td>-8,536,198</td>\n",
              "    </tr>\n",
              "    <tr>\n",
              "      <th>742</th>\n",
              "      <td>20130701</td>\n",
              "      <td>3481</td>\n",
              "      <td>群創</td>\n",
              "      <td>9,994,000</td>\n",
              "      <td>18,323,000</td>\n",
              "      <td>-8,329,000</td>\n",
              "      <td>307,000</td>\n",
              "      <td>393,000</td>\n",
              "      <td>-86,000</td>\n",
              "      <td>-1,583,000</td>\n",
              "      <td>518,000</td>\n",
              "      <td>2,101,000</td>\n",
              "      <td>-9,998,000</td>\n",
              "    </tr>\n",
              "    <tr>\n",
              "      <th>743</th>\n",
              "      <td>20130701</td>\n",
              "      <td>2330</td>\n",
              "      <td>台積電</td>\n",
              "      <td>25,849,906</td>\n",
              "      <td>39,462,311</td>\n",
              "      <td>-13,612,405</td>\n",
              "      <td>25,000</td>\n",
              "      <td>850,000</td>\n",
              "      <td>-825,000</td>\n",
              "      <td>1,517,000</td>\n",
              "      <td>3,637,000</td>\n",
              "      <td>2,120,000</td>\n",
              "      <td>-12,920,405</td>\n",
              "    </tr>\n",
              "    <tr>\n",
              "      <th>744</th>\n",
              "      <td>20130701</td>\n",
              "      <td>2409</td>\n",
              "      <td>友達</td>\n",
              "      <td>8,718,000</td>\n",
              "      <td>31,168,000</td>\n",
              "      <td>-22,450,000</td>\n",
              "      <td>0</td>\n",
              "      <td>1,013,000</td>\n",
              "      <td>-1,013,000</td>\n",
              "      <td>-536,000</td>\n",
              "      <td>115,000</td>\n",
              "      <td>651,000</td>\n",
              "      <td>-23,999,000</td>\n",
              "    </tr>\n",
              "  </tbody>\n",
              "</table>\n",
              "<p>745 rows × 13 columns</p>\n",
              "</div>"
            ],
            "text/plain": [
              "         date  code            name  ...     DL_BUY    DL_SELL   TOP3_TOTAL\n",
              "0    20130701  2303  聯電              ...  6,839,000  4,092,000   11,344,630\n",
              "1    20130701  3474   華亞科            ...          0          0    8,980,000\n",
              "2    20130701  2883   開發金            ...  7,624,000  2,657,000    8,265,200\n",
              "3    20130701  2325  矽品              ...  3,223,000    483,000    8,115,631\n",
              "4    20130701  2887   台新金            ...    546,000    334,000    7,562,000\n",
              "..        ...   ...             ...  ...        ...        ...          ...\n",
              "740  20130701  6116  彩晶              ...    200,000      5,000   -7,526,394\n",
              "741  20130701  2498   宏達電            ...    261,000    388,015   -8,536,198\n",
              "742  20130701  3481  群創              ...    518,000  2,101,000   -9,998,000\n",
              "743  20130701  2330   台積電            ...  3,637,000  2,120,000  -12,920,405\n",
              "744  20130701  2409  友達              ...    115,000    651,000  -23,999,000\n",
              "\n",
              "[745 rows x 13 columns]"
            ]
          },
          "metadata": {
            "tags": []
          },
          "execution_count": 55
        }
      ]
    },
    {
      "cell_type": "code",
      "metadata": {
        "id": "1I4tQarVMTHM"
      },
      "source": [
        ""
      ],
      "execution_count": null,
      "outputs": []
    }
  ]
}